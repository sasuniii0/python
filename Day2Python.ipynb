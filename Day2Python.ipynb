{
 "cells": [
  {
   "cell_type": "code",
   "execution_count": 3,
   "id": "0bdc5d95",
   "metadata": {},
   "outputs": [
    {
     "name": "stdout",
     "output_type": "stream",
     "text": [
      "('cricket', 'tennis', 'football', 'cricket')\n",
      "<class 'tuple'>\n",
      "cricket\n"
     ]
    }
   ],
   "source": [
    "sports = (\"cricket\",\"tennis\",\"football\",\"cricket\")\n",
    "print(sports)\n",
    "print(type(sports))\n",
    "print(sports[3])\n",
    "\n",
    "#sports[1] = \"baseball\""
   ]
  },
  {
   "cell_type": "code",
   "execution_count": 6,
   "id": "dd9fc1a6",
   "metadata": {},
   "outputs": [
    {
     "name": "stdout",
     "output_type": "stream",
     "text": [
      "<class 'tuple'>\n"
     ]
    }
   ],
   "source": [
    "day = (\"Monday\",)\n",
    "print(type(day))"
   ]
  },
  {
   "cell_type": "code",
   "execution_count": 7,
   "id": "1ae0aeb8",
   "metadata": {},
   "outputs": [
    {
     "name": "stdout",
     "output_type": "stream",
     "text": [
      "('cricket', 'tennis', 'football') <class 'tuple'>\n",
      "['cricket', 'baseball', 'football'] <class 'list'>\n",
      "('cricket', 'baseball', 'football') <class 'tuple'>\n"
     ]
    }
   ],
   "source": [
    "sports = (\"cricket\",\"tennis\",\"football\")\n",
    "print(sports , type(sports))\n",
    "\n",
    "x = list(sports)\n",
    "\n",
    "x[1] = \"baseball\"\n",
    "print(x, type(x))\n",
    "\n",
    "sports = tuple(x)\n",
    "print(sports , type(sports))\n"
   ]
  },
  {
   "cell_type": "code",
   "execution_count": 10,
   "id": "5d5fc3ee",
   "metadata": {},
   "outputs": [
    {
     "name": "stdout",
     "output_type": "stream",
     "text": [
      "{'tennis', 'baseball', 'cricket'}\n",
      "<class 'set'>\n"
     ]
    }
   ],
   "source": [
    "sports = {\"cricket\",\"baseball\", \"tennis\"}\n",
    "print(sports)\n",
    "print(type(sports))\n",
    "\n",
    "#print(sports[1])"
   ]
  },
  {
   "cell_type": "code",
   "execution_count": 11,
   "id": "e2eb19bb",
   "metadata": {},
   "outputs": [
    {
     "name": "stdout",
     "output_type": "stream",
     "text": [
      "{' basketball', 'cricket', 'tennis'}\n"
     ]
    }
   ],
   "source": [
    "sports = {\"tennis\", \"cricket\",\" basketball\" , \"tennis\"}\n",
    "print(sports)"
   ]
  },
  {
   "cell_type": "code",
   "execution_count": 13,
   "id": "74ab26a3",
   "metadata": {},
   "outputs": [
    {
     "name": "stdout",
     "output_type": "stream",
     "text": [
      "{' thursday', 'friday', 'wednesday', 'saturday', 'monday', 'sunday', 'tuesday'}\n"
     ]
    }
   ],
   "source": [
    "days = {\"monday\", \"tuesday\" ,\"wednesday\",\" thursday\"}\n",
    "days.add(\"sunday\")\n",
    "days.update([\"sunday\", \"saturday\",\"friday\"])\n",
    "print(days)"
   ]
  },
  {
   "cell_type": "code",
   "execution_count": 16,
   "id": "2543c422",
   "metadata": {},
   "outputs": [
    {
     "name": "stdout",
     "output_type": "stream",
     "text": [
      "{'wednesday', ' thursday', 'sunday', 'tuesday', 'friday'}\n"
     ]
    }
   ],
   "source": [
    "days = {\"monday\", \"tuesday\" ,\"wednesday\",\" thursday\",\"sunday\",\"friday\"}\n",
    "days.remove(\"monday\")\n",
    "print(days)"
   ]
  },
  {
   "cell_type": "code",
   "execution_count": 21,
   "id": "78d98676",
   "metadata": {},
   "outputs": [
    {
     "name": "stdout",
     "output_type": "stream",
     "text": [
      "range(3, 24, 4)\n",
      "3\n",
      "7\n",
      "11\n",
      "15\n"
     ]
    }
   ],
   "source": [
    "range_1 =range(3,24,4)\n",
    "print(range_1)\n",
    "print(range_1[0])\n",
    "print(range_1[1])\n",
    "print(range_1[2])\n",
    "print(range_1[3])"
   ]
  },
  {
   "cell_type": "code",
   "execution_count": 23,
   "id": "dd42b4f0",
   "metadata": {},
   "outputs": [
    {
     "name": "stdout",
     "output_type": "stream",
     "text": [
      "{'name': 'suger', 'price': ' 250.00', 'weight': '1kg'} <class 'dict'>\n",
      "1kg\n"
     ]
    }
   ],
   "source": [
    "this_dict = {\n",
    "    \"name\" : \"suger\",\n",
    "    \"price\" : \" 250.00\",\n",
    "    \"weight\" : \"1kg\"\n",
    "}\n",
    "\n",
    "print(this_dict, type(this_dict))\n",
    "print(this_dict[\"weight\"])"
   ]
  },
  {
   "cell_type": "code",
   "execution_count": 25,
   "id": "7319f346",
   "metadata": {},
   "outputs": [
    {
     "name": "stdout",
     "output_type": "stream",
     "text": [
      "{'name': 'suger', 'price': ' 450.00', 'weight': '3kg'}\n"
     ]
    }
   ],
   "source": [
    "this_dict = {\n",
    "    \"name\" : \"suger\",\n",
    "    \"price\" : \" 450.00\",\n",
    "    \"weight\" : \"2kg\"\n",
    "}\n",
    "\n",
    "this_dict[\"weight\"] = \"3kg\"\n",
    "print(this_dict)"
   ]
  },
  {
   "cell_type": "code",
   "execution_count": 27,
   "id": "3d9ed671",
   "metadata": {},
   "outputs": [
    {
     "name": "stdout",
     "output_type": "stream",
     "text": [
      "40.0\n"
     ]
    }
   ],
   "source": [
    "this_dict = {\n",
    "    \"name\" : \"suger\",\n",
    "    #\"price\" : \" 450.00\",\n",
    "    \"weight\" : \"2kg\"\n",
    "}\n",
    "\n",
    "print(this_dict.get(\"price\" , 40.00))"
   ]
  },
  {
   "cell_type": "code",
   "execution_count": 28,
   "id": "c72662bb",
   "metadata": {},
   "outputs": [
    {
     "name": "stdout",
     "output_type": "stream",
     "text": [
      "{'name': 'suger', 'price': ' 450.00', 'weight': '3kg', 'expire_date': ' 2025/10/03'}\n"
     ]
    }
   ],
   "source": [
    "this_dict = {\n",
    "    \"name\" : \"suger\",\n",
    "    \"price\" : \" 450.00\",\n",
    "    \"weight\" : \"2kg\"\n",
    "}\n",
    "\n",
    "this_dict.update({\"weight\" : \"3kg\" , \"expire_date\" : \" 2025/10/03\"})\n",
    "print(this_dict)"
   ]
  },
  {
   "cell_type": "code",
   "execution_count": 29,
   "id": "5657af3b",
   "metadata": {},
   "outputs": [
    {
     "name": "stdout",
     "output_type": "stream",
     "text": [
      "{'name': 'suger', 'price': ' 450.00'}\n",
      "{'name': 'suger'}\n",
      "{}\n"
     ]
    }
   ],
   "source": [
    "this_dict = {\n",
    "    \"name\" : \"suger\",\n",
    "    \"price\" : \" 450.00\",\n",
    "    \"weight\" : \"2kg\"\n",
    "}\n",
    "\n",
    "this_dict.pop(\"weight\")\n",
    "print(this_dict)\n",
    "\n",
    "del this_dict[\"price\"]\n",
    "print(this_dict)\n",
    "\n",
    "this_dict.clear()\n",
    "print(this_dict)\n"
   ]
  },
  {
   "cell_type": "code",
   "execution_count": 31,
   "id": "6d6cebe2",
   "metadata": {},
   "outputs": [
    {
     "name": "stdout",
     "output_type": "stream",
     "text": [
      "14\n",
      "6\n",
      "40\n",
      "10000\n",
      "2.5\n",
      "2\n",
      "2\n"
     ]
    }
   ],
   "source": [
    "x = 10\n",
    "y = 4\n",
    "\n",
    "print(x+y)\n",
    "print(x-y)\n",
    "print(x*y)\n",
    "print(x**y)\n",
    "print(x/y)\n",
    "print(x//y)\n",
    "print(x%y)\n"
   ]
  },
  {
   "cell_type": "code",
   "execution_count": null,
   "id": "61825842",
   "metadata": {},
   "outputs": [
    {
     "name": "stdout",
     "output_type": "stream",
     "text": [
      "True\n"
     ]
    }
   ],
   "source": [
    "#-----------------in-class task----------------\n",
    "\n",
    "product_ids = [101,102,103,104,105,106,107,103,109]\n",
    "unique_product_ids = set(product_ids)\n",
    "has_duplicates = len(unique_product_ids)< len(product_ids)\n",
    "print(has_duplicates)"
   ]
  }
 ],
 "metadata": {
  "kernelspec": {
   "display_name": "Python 3",
   "language": "python",
   "name": "python3"
  },
  "language_info": {
   "codemirror_mode": {
    "name": "ipython",
    "version": 3
   },
   "file_extension": ".py",
   "mimetype": "text/x-python",
   "name": "python",
   "nbconvert_exporter": "python",
   "pygments_lexer": "ipython3",
   "version": "3.13.7"
  }
 },
 "nbformat": 4,
 "nbformat_minor": 5
}
