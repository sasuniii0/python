{
 "cells": [
  {
   "cell_type": "code",
   "execution_count": null,
   "id": "0ecd8a0b",
   "metadata": {},
   "outputs": [],
   "source": [
    "print(\"hello world\")"
   ]
  },
  {
   "cell_type": "code",
   "execution_count": null,
   "id": "716e3c12",
   "metadata": {},
   "outputs": [],
   "source": [
    "a = 10\n",
    "b = 20\n",
    "c = a + b\n",
    "print(c)"
   ]
  },
  {
   "cell_type": "code",
   "execution_count": null,
   "id": "3fecd8e4",
   "metadata": {},
   "outputs": [],
   "source": [
    "my_var = 3.0\n",
    "print(type(my_var))"
   ]
  },
  {
   "cell_type": "code",
   "execution_count": null,
   "id": "1d716a98",
   "metadata": {},
   "outputs": [],
   "source": [
    "\n",
    "# this is avoid the rules of the variable declaration\n",
    "# my@var = 33\n",
    "# print(my@var) XXX\n",
    "\n",
    "# my22 = 44\n",
    "# print(my22)  this is correct\n",
    "\n",
    "#myVar = 10 --> this is violating the standards in python\n",
    "#my_var = 10 --> this is correct.."
   ]
  },
  {
   "cell_type": "code",
   "execution_count": null,
   "id": "cec9dca2",
   "metadata": {},
   "outputs": [],
   "source": [
    "#constraint\n",
    "MAXIMIM_ATTEMPS = 100"
   ]
  },
  {
   "cell_type": "code",
   "execution_count": null,
   "id": "b9c68a1b",
   "metadata": {},
   "outputs": [],
   "source": [
    "complex_num = 3 + 3j\n",
    "print(type(complex_num))"
   ]
  },
  {
   "cell_type": "code",
   "execution_count": null,
   "id": "6ae11855",
   "metadata": {},
   "outputs": [],
   "source": [
    "my_num = 345e8\n",
    "print(my_num)"
   ]
  },
  {
   "cell_type": "code",
   "execution_count": null,
   "id": "e6f9ec85",
   "metadata": {},
   "outputs": [],
   "source": [
    "# casting...\n",
    "a = 10 \n",
    "b = float(a)\n",
    "print(b , type(b))\n",
    "\n",
    "c = 7.3\n",
    "d = int(c)\n",
    "print(d, type(d))"
   ]
  },
  {
   "cell_type": "code",
   "execution_count": null,
   "id": "6c34be0f",
   "metadata": {},
   "outputs": [],
   "source": [
    "my_list = [8,2,5,8,3,0,5,7]\n",
    "print(my_list, type(my_list), my_list[2])"
   ]
  },
  {
   "cell_type": "code",
   "execution_count": null,
   "id": "962f47b1",
   "metadata": {},
   "outputs": [],
   "source": [
    "x = 10\n",
    "print(id(x))\n",
    "\n",
    "x = 11\n",
    "print(id(x))"
   ]
  },
  {
   "cell_type": "code",
   "execution_count": null,
   "id": "c3d13310",
   "metadata": {},
   "outputs": [],
   "source": [
    "my_list = [1,2,3,4,5,6,7,8,9]\n",
    "print(id(my_list))\n",
    "\n",
    "my_list[2] = 10\n",
    "print(my_list)\n",
    "print(id(my_list))"
   ]
  },
  {
   "cell_type": "code",
   "execution_count": null,
   "id": "1c5c49f9",
   "metadata": {},
   "outputs": [],
   "source": [
    "list = [1,2,3,4,5]\n",
    "list[2] = 4\n",
    "print(list)"
   ]
  },
  {
   "cell_type": "code",
   "execution_count": null,
   "id": "38205db4",
   "metadata": {},
   "outputs": [],
   "source": [
    "#--------------------------getItems-------------------------------------------\n",
    "collection = [\"sasuni\" , 21, \"piliyandala\" , True,\"GDSE71\" , \"se\"]\n",
    "print(collection)\n",
    "print(len(collection))\n",
    "\n",
    "print(collection[2:5])\n",
    "print(collection[2:])\n",
    "print(collection[:5])\n",
    "print(collection[-4])"
   ]
  },
  {
   "cell_type": "code",
   "execution_count": null,
   "id": "8abfb7ed",
   "metadata": {},
   "outputs": [],
   "source": [
    "#-----------------------task-----------------\n",
    "new_list = [10,8,9,15,20,18,26] # 90/60/80\n",
    "new_list[2:5] = [90,60,80]\n",
    "print(new_list)"
   ]
  },
  {
   "cell_type": "code",
   "execution_count": null,
   "id": "e44c4c62",
   "metadata": {},
   "outputs": [],
   "source": [
    "#--------------------inserting--------------------------------\n",
    "list1 = [1,2,3,4,5,6,7,8,9]\n",
    "\n",
    "list1.insert(4,22)\n",
    "print(list1)\n",
    "\n",
    "list1.append(33)\n",
    "print(list1)"
   ]
  },
  {
   "cell_type": "code",
   "execution_count": null,
   "id": "4ec15283",
   "metadata": {},
   "outputs": [],
   "source": [
    "#-------------remove--------------------------\n",
    "list2 =[1,2,3,4,5,6,7,8,6,9]\n",
    "\n",
    "list2.remove(6)\n",
    "print(list2)"
   ]
  },
  {
   "cell_type": "code",
   "execution_count": null,
   "id": "22f447e0",
   "metadata": {},
   "outputs": [],
   "source": [
    "#------------------------pop-----------------------------\n",
    "list3 = [1,2,3,4,56,7]\n",
    "my_var1 = list3.pop(3)\n",
    "print(my_var1)\n",
    "\n",
    "del list3[1]\n",
    "print(list3)\n",
    "del list3\n",
    "#print(list3)"
   ]
  },
  {
   "cell_type": "code",
   "execution_count": null,
   "id": "cb17a99a",
   "metadata": {},
   "outputs": [],
   "source": [
    "#--------------------clear----------------------------\n",
    "list4 = [1,2,4,5,6]\n",
    "list4.clear()\n",
    "print(list4)"
   ]
  },
  {
   "cell_type": "code",
   "execution_count": null,
   "id": "34f8cfbe",
   "metadata": {},
   "outputs": [],
   "source": [
    "#-----------sort------------------------------\n",
    "list5 =[\"fish\",\"rabbit\",\"dog\",\"cat\",\"mouse\"]\n",
    "list5.sort()\n",
    "list5.sort(reverse=True)\n",
    "print(list5)"
   ]
  },
  {
   "cell_type": "code",
   "execution_count": null,
   "id": "cb838cbe",
   "metadata": {},
   "outputs": [],
   "source": [
    "#--------reverse sorting----------------------------------\n",
    "list6 =[\"sasuni\",\"nishini\",\"dog\",\"cat\"]\n",
    "list6.reverse()\n",
    "print(list6)"
   ]
  },
  {
   "cell_type": "code",
   "execution_count": null,
   "id": "f74e8d06",
   "metadata": {},
   "outputs": [],
   "source": [
    "#---------------------copying-----------------------------\n",
    "my_list_1 = [\"dog\", \"cat\",\"rabbit\"]\n",
    "\n",
    "my_list = my_list_1.copy()\n",
    "my_list[2] = \"mouse\"\n",
    "print(my_list_1)\n",
    "print(my_list)"
   ]
  },
  {
   "cell_type": "code",
   "execution_count": null,
   "id": "4b16fb76",
   "metadata": {},
   "outputs": [],
   "source": [
    "#------------------------------joining--------------------------------------\n",
    "list1 = [1,2,3]\n",
    "list2 = [4,5,6]\n",
    "list = list1 + list2\n",
    "print(list)"
   ]
  },
  {
   "cell_type": "code",
   "execution_count": null,
   "id": "ad2b98e2",
   "metadata": {},
   "outputs": [
    {
     "name": "stdout",
     "output_type": "stream",
     "text": [
      "[1, 2, 3, 4, 5, 6]\n"
     ]
    }
   ],
   "source": [
    "#-----------------extending-------------------------\n",
    "list1 =[1,2,3]\n",
    "list2 = [4,5,6]\n",
    "list1.extend(list2)\n",
    "print(list1)"
   ]
  }
 ],
 "metadata": {
  "kernelspec": {
   "display_name": "Python 3",
   "language": "python",
   "name": "python3"
  },
  "language_info": {
   "codemirror_mode": {
    "name": "ipython",
    "version": 3
   },
   "file_extension": ".py",
   "mimetype": "text/x-python",
   "name": "python",
   "nbconvert_exporter": "python",
   "pygments_lexer": "ipython3",
   "version": "3.13.7"
  }
 },
 "nbformat": 4,
 "nbformat_minor": 5
}
