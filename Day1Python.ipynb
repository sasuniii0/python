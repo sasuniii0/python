{
 "cells": [
  {
   "cell_type": "code",
   "execution_count": null,
   "id": "0ecd8a0b",
   "metadata": {},
   "outputs": [],
   "source": [
    "print(\"hello world\")"
   ]
  },
  {
   "cell_type": "code",
   "execution_count": null,
   "id": "716e3c12",
   "metadata": {},
   "outputs": [],
   "source": [
    "a = 10\n",
    "b = 20\n",
    "c = a + b\n",
    "print(c)"
   ]
  },
  {
   "cell_type": "code",
   "execution_count": null,
   "id": "3fecd8e4",
   "metadata": {},
   "outputs": [],
   "source": [
    "my_var = 3.0\n",
    "print(type(my_var))"
   ]
  },
  {
   "cell_type": "code",
   "execution_count": null,
   "id": "1d716a98",
   "metadata": {},
   "outputs": [],
   "source": [
    "\n",
    "# this is avoid the rules of the variable declaration\n",
    "# my@var = 33\n",
    "# print(my@var) XXX\n",
    "\n",
    "# my22 = 44\n",
    "# print(my22)  this is correct\n",
    "\n",
    "#myVar = 10 --> this is violating the standards in python\n",
    "#my_var = 10 --> this is correct.."
   ]
  },
  {
   "cell_type": "code",
   "execution_count": null,
   "id": "cec9dca2",
   "metadata": {},
   "outputs": [],
   "source": [
    "#constraint\n",
    "MAXIMIM_ATTEMPS = 100"
   ]
  },
  {
   "cell_type": "code",
   "execution_count": null,
   "id": "b9c68a1b",
   "metadata": {},
   "outputs": [],
   "source": [
    "complex_num = 3 + 3j\n",
    "print(type(complex_num))"
   ]
  },
  {
   "cell_type": "code",
   "execution_count": null,
   "id": "6ae11855",
   "metadata": {},
   "outputs": [],
   "source": [
    "my_num = 345e8\n",
    "print(my_num)"
   ]
  },
  {
   "cell_type": "code",
   "execution_count": null,
   "id": "e6f9ec85",
   "metadata": {},
   "outputs": [],
   "source": [
    "# casting...\n",
    "a = 10 \n",
    "b = float(a)\n",
    "print(b , type(b))\n",
    "\n",
    "c = 7.3\n",
    "d = int(c)\n",
    "print(d, type(d))"
   ]
  },
  {
   "cell_type": "code",
   "execution_count": 18,
   "id": "6c34be0f",
   "metadata": {},
   "outputs": [
    {
     "name": "stdout",
     "output_type": "stream",
     "text": [
      "[8, 2, 5, 8, 3, 0, 5, 7] <class 'list'> 5\n"
     ]
    }
   ],
   "source": [
    "my_list = [8,2,5,8,3,0,5,7]\n",
    "print(my_list, type(my_list), my_list[2])"
   ]
  }
 ],
 "metadata": {
  "kernelspec": {
   "display_name": "Python 3",
   "language": "python",
   "name": "python3"
  },
  "language_info": {
   "codemirror_mode": {
    "name": "ipython",
    "version": 3
   },
   "file_extension": ".py",
   "mimetype": "text/x-python",
   "name": "python",
   "nbconvert_exporter": "python",
   "pygments_lexer": "ipython3",
   "version": "3.13.7"
  }
 },
 "nbformat": 4,
 "nbformat_minor": 5
}
