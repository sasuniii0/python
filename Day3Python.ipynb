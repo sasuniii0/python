{
 "cells": [
  {
   "cell_type": "code",
   "execution_count": null,
   "id": "455d138b",
   "metadata": {},
   "outputs": [],
   "source": [
    "a = 10\n",
    "\n",
    "if a > 0:\n",
    "    print(\"a is a positive number\")\n",
    "elif a < 0 :\n",
    "    print(\"a is a negative number\")\n",
    "else:\n",
    "    print(\"a is zero\")"
   ]
  },
  {
   "cell_type": "code",
   "execution_count": null,
   "id": "9f6b9549",
   "metadata": {},
   "outputs": [],
   "source": [
    "num1 = float(input(\"Enter a number: \"))\n",
    "num2 = float(input(\"Enter a number: \"))\n",
    "num3 = float(input(\"Enter a number: \"))\n",
    "\n",
    "if num1 >= num2 and num1 >= num3:\n",
    "    largest = num1\n",
    "elif num2 >= num1 and num2 >= num3:\n",
    "    largest = num2\n",
    "else:\n",
    "    largest = num3\n",
    "print(\"The largest number is \", largest)\n"
   ]
  },
  {
   "cell_type": "code",
   "execution_count": null,
   "id": "b378db48",
   "metadata": {},
   "outputs": [],
   "source": [
    "#------------------ the largets number of the given 3 numbers--------------------------------\n",
    "num1 = float(input(\"Enter a number: \"))\n",
    "num2 = float(input(\"Enter a number: \"))\n",
    "num3 = float(input(\"Enter a number: \"))\n",
    "\n",
    "numbers = [num1, num2,num3]\n",
    "numbers.sort(reverse = True)\n",
    "print(numbers)"
   ]
  },
  {
   "cell_type": "code",
   "execution_count": null,
   "id": "3402c907",
   "metadata": {},
   "outputs": [],
   "source": [
    "#------------------ the decending order of the three numbers----------------------------\n",
    "num1 = float(input(\"Enter a number: \"))\n",
    "num2 = float(input(\"Enter a number: \"))\n",
    "num3 = float(input(\"Enter a number: \"))\n",
    "\n",
    "if num1 >= num2 and num1 >= num3:\n",
    "    if num2 >= num3:\n",
    "        print(num1,num2,num3)\n",
    "    else:\n",
    "        print(num1,num3,num2)\n",
    "elif num2 >= num1 and num2 >= num3:\n",
    "    if num3 >= num1:\n",
    "        print(num2,num3,num1)\n",
    "    else:\n",
    "        print(num2,num1,num3)\n",
    "else:\n",
    "    print(num3,num1,num2)"
   ]
  },
  {
   "cell_type": "code",
   "execution_count": null,
   "id": "1af4e53c",
   "metadata": {},
   "outputs": [],
   "source": [
    "x = 10\n",
    "result = \"Even\" if x % 2 == 0 else \"Odd\"\n",
    "print(result)"
   ]
  },
  {
   "cell_type": "code",
   "execution_count": null,
   "id": "bcc07927",
   "metadata": {},
   "outputs": [],
   "source": [
    "# ------------------the absolute value of the number using the ternary operator-----------------------------------\n",
    "number = float(input(\"Enter a number: \"))\n",
    "\n",
    "absolute = -number if number < 0 else number\n",
    "print(\"Absolute value:\", absolute)\n"
   ]
  },
  {
   "cell_type": "code",
   "execution_count": null,
   "id": "d4fae1cf",
   "metadata": {},
   "outputs": [],
   "source": [
    "x = 10\n",
    "\n",
    "match x :\n",
    "    case 1 :\n",
    "        print(\"number is 1 \")\n",
    "    case 2 :\n",
    "        print(\"number is 2\")\n",
    "    case 3 :\n",
    "        print(\"number is 3\")\n",
    "    case _ :\n",
    "        print(\"something else\")"
   ]
  },
  {
   "cell_type": "code",
   "execution_count": null,
   "id": "d1b1c801",
   "metadata": {},
   "outputs": [],
   "source": [
    "#-----getting the day of the week from the user and printing whether it's a weekday or weekend using match-case statement----------------\n",
    "user_input = input(\"Enter a day: \")\n",
    "\n",
    "match user_input:\n",
    "    case \"Monday\" | \"Tuesday\" | \"Wednesday\" | \"Thursday\" | \"Friday\":\n",
    "        print(\"It's a weekday.\")\n",
    "    case \"Saturday\" | \"Sunday\":\n",
    "        print(\"It's the weekend!\")\n",
    "    case _:\n",
    "        print(\"Not a valid day.\")"
   ]
  },
  {
   "cell_type": "code",
   "execution_count": null,
   "id": "a69bbfd9",
   "metadata": {},
   "outputs": [],
   "source": [
    "# -----pattern matching with lists with undefined x,y,z----------------------\n",
    "numbers = [1,3,8]\n",
    "\n",
    "match numbers :\n",
    "    case [x,y] :\n",
    "        print(x+y)\n",
    "    case [x,y,z] :\n",
    "        print(x+y+z)\n",
    "    case _ :\n",
    "        print(\"else\")"
   ]
  },
  {
   "cell_type": "code",
   "execution_count": null,
   "id": "a773776e",
   "metadata": {},
   "outputs": [],
   "source": [
    "# numbers = [6,8,10]\n",
    "\n",
    "# match numbers :\n",
    "#     case [x,y] :\n",
    "#         hypotenuse = (x ** 2 + y ** 2) ** 0.5\n",
    "#         print(hypotenuse)\n",
    "#     case [x,y,z] :\n",
    "#         if x > y | x > z | \n",
    "#         print(triangle_area)\n",
    "#     case _ :\n",
    "#         print(\"unsupported number of the inputs\")\n"
   ]
  },
  {
   "cell_type": "code",
   "execution_count": null,
   "id": "d72b7121",
   "metadata": {},
   "outputs": [],
   "source": [
    "sides = [8,6,4]\n",
    "\n",
    "match sides :\n",
    "    case [a,b] :\n",
    "        hypotenuse = (a ** 2 + b ** 2) ** 0.5\n",
    "        print(hypotenuse)\n",
    "    case [a,b,c] :\n",
    "        s = (a + b + c ) / 2\n",
    "        area = (s * (s -a) * (s - b) * (s - c)) ** 0.5\n",
    "        print(area)\n",
    "    case _ : \n",
    "        print(\"unsupported number of the inputs\")"
   ]
  },
  {
   "cell_type": "code",
   "execution_count": null,
   "id": "d9d4c6fc",
   "metadata": {},
   "outputs": [],
   "source": [
    "nums = [33,64,73,67,35,34]\n",
    "\n",
    "for num in nums:\n",
    "    print(num)\n",
    "\n",
    "print(\"the loop is finished\")"
   ]
  },
  {
   "cell_type": "code",
   "execution_count": null,
   "id": "a525a93f",
   "metadata": {},
   "outputs": [],
   "source": [
    "nums = [10,9,8,5,12,18]\n",
    "\n",
    "for num in nums:\n",
    "    if num % 2 == 1 :\n",
    "        nums.remove(num)\n",
    "print(nums)            "
   ]
  },
  {
   "cell_type": "code",
   "execution_count": null,
   "id": "cf2917fe",
   "metadata": {},
   "outputs": [],
   "source": [
    "nums = range(101)\n",
    "for num in nums:\n",
    "    if num % 7 == 0:\n",
    "        print(num)\n"
   ]
  },
  {
   "cell_type": "code",
   "execution_count": null,
   "id": "7c5fb518",
   "metadata": {},
   "outputs": [],
   "source": [
    "for num in range(0,100,7):\n",
    "    print(num)"
   ]
  },
  {
   "cell_type": "code",
   "execution_count": null,
   "id": "c9588d53",
   "metadata": {},
   "outputs": [],
   "source": [
    "user_input = int(input(\"Input a number: \"))\n",
    "\n",
    "factorial = 1   \n",
    "\n",
    "if user_input < 0 :\n",
    "    print(\"the number must be a positive value\")\n",
    "else :\n",
    "    for i in range(1 , user_input + 1):\n",
    "        factorial *= i\n",
    "    print(\"factorial of the given number is : \" , factorial)"
   ]
  }
 ],
 "metadata": {
  "kernelspec": {
   "display_name": "Python 3",
   "language": "python",
   "name": "python3"
  },
  "language_info": {
   "codemirror_mode": {
    "name": "ipython",
    "version": 3
   },
   "file_extension": ".py",
   "mimetype": "text/x-python",
   "name": "python",
   "nbconvert_exporter": "python",
   "pygments_lexer": "ipython3",
   "version": "3.13.7"
  }
 },
 "nbformat": 4,
 "nbformat_minor": 5
}
